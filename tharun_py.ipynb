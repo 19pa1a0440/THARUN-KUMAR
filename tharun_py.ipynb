{
  "nbformat": 4,
  "nbformat_minor": 0,
  "metadata": {
    "colab": {
      "name": "tharun.py",
      "provenance": [],
      "authorship_tag": "ABX9TyNe1reu+d7b7BHHX+xZjrVf",
      "include_colab_link": true
    },
    "kernelspec": {
      "name": "python3",
      "display_name": "Python 3"
    }
  },
  "cells": [
    {
      "cell_type": "markdown",
      "metadata": {
        "id": "view-in-github",
        "colab_type": "text"
      },
      "source": [
        "<a href=\"https://colab.research.google.com/github/19pa1a0440/THARUN-KUMAR/blob/master/tharun_py.ipynb\" target=\"_parent\"><img src=\"https://colab.research.google.com/assets/colab-badge.svg\" alt=\"Open In Colab\"/></a>"
      ]
    },
    {
      "cell_type": "code",
      "metadata": {
        "id": "i6QgY5Umk6ub",
        "colab_type": "code",
        "colab": {}
      },
      "source": [
        "\n",
        "i=0\n",
        "while i<101:\n",
        "  print(i)\n",
        "  i=i+2"
      ],
      "execution_count": 0,
      "outputs": []
    },
    {
      "cell_type": "code",
      "metadata": {
        "id": "guQ_eMH-mJJa",
        "colab_type": "code",
        "colab": {}
      },
      "source": [
        ""
      ],
      "execution_count": 0,
      "outputs": []
    }
  ]
}